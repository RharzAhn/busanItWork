{
 "cells": [
  {
   "cell_type": "code",
   "execution_count": 10,
   "id": "5e660647-3802-4d38-b957-324814e32f95",
   "metadata": {
    "collapsed": true,
    "jupyter": {
     "outputs_hidden": true
    },
    "tags": []
   },
   "outputs": [
    {
     "name": "stderr",
     "output_type": "stream",
     "text": [
      "C:\\Users\\admin\\AppData\\Local\\Temp\\ipykernel_9904\\2146186075.py:5: DeprecationWarning: executable_path has been deprecated, please pass in a Service object\n",
      "  driver=webdriver.Chrome('tools/chromedriver')\n"
     ]
    },
    {
     "name": "stdout",
     "output_type": "stream",
     "text": [
      "<selenium.webdriver.chrome.webdriver.WebDriver (session=\"37bffdaaae3eb1672e15112cedc28236\")>\n"
     ]
    }
   ],
   "source": [
    "from selenium import webdriver\n",
    "from selenium.webdriver.common.keys import Keys\n",
    "from selenium.webdriver.common.by import By\n",
    "\n",
    "driver=webdriver.Chrome('tools/chromedriver')\n",
    "print(driver)\n",
    "\n",
    "driver.get('http://www.google.com/ncr')\n",
    "#target=driver.find_element_by_css_selector(\"[name='q']\")\n",
    "target=driver.find_element(By.CSS_SELECTOR,\"[name='q']\") #\n",
    "#print(target)\n",
    "target.send_keys('python')\n",
    "target.send_keys(Keys.ENTER)\n",
    "\n",
    "#driver.quit()"
   ]
  },
  {
   "cell_type": "code",
   "execution_count": 13,
   "id": "f0f8e7b1-fbfe-4644-8a38-9e9e7ad6d947",
   "metadata": {
    "collapsed": true,
    "jupyter": {
     "outputs_hidden": true
    },
    "tags": []
   },
   "outputs": [
    {
     "name": "stderr",
     "output_type": "stream",
     "text": [
      "C:\\Users\\admin\\AppData\\Local\\Temp\\ipykernel_9904\\2923098623.py:1: DeprecationWarning: executable_path has been deprecated, please pass in a Service object\n",
      "  driver=webdriver.Chrome('tools/chromedriver')\n"
     ]
    }
   ],
   "source": [
    "driver=webdriver.Chrome('tools/chromedriver')\n",
    "driver.implicitly_wait(3)\n",
    "driver.get('http://www.naver.com')\n",
    "target=driver.find_element(By.CSS_SELECTOR,\"[name='query']\")\n",
    "target.send_keys('파이썬')\n",
    "target.submit()\n",
    "driver.implicitly_wait(30)\n",
    "driver.quit()"
   ]
  },
  {
   "cell_type": "code",
   "execution_count": null,
   "id": "2f2930e6-64fa-4cde-a2f9-0f0242268862",
   "metadata": {},
   "outputs": [],
   "source": [
    "# import pandas as pd\n",
    "# df=jpd.DataFrame(temp_list,columns=['name','lat','long','addr','phone'])\n",
    "# df"
   ]
  }
 ],
 "metadata": {
  "kernelspec": {
   "display_name": "Python 3 (ipykernel)",
   "language": "python",
   "name": "python3"
  },
  "language_info": {
   "codemirror_mode": {
    "name": "ipython",
    "version": 3
   },
   "file_extension": ".py",
   "mimetype": "text/x-python",
   "name": "python",
   "nbconvert_exporter": "python",
   "pygments_lexer": "ipython3",
   "version": "3.9.12"
  }
 },
 "nbformat": 4,
 "nbformat_minor": 5
}
