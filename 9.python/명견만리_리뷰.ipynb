{
 "cells": [
  {
   "cell_type": "code",
   "execution_count": 20,
   "id": "3e68940f-a07c-4d3d-8d9d-3dee385e026a",
   "metadata": {},
   "outputs": [],
   "source": [
    "from selenium import webdriver\n",
    "from selenium.webdriver.common.keys import Keys\n",
    "from selenium.webdriver.common.by import By\n",
    "import time\n",
    "\n",
    "#리뷰 그냥과 더보기가 다름. 더보기해서 전체리뷰를 동적크롤링으로 가져오기"
   ]
  },
  {
   "cell_type": "code",
   "execution_count": 21,
   "id": "2c6e5262-dd45-44a2-8a26-913d11a834a1",
   "metadata": {
    "tags": []
   },
   "outputs": [
    {
     "name": "stderr",
     "output_type": "stream",
     "text": [
      "C:\\Users\\admin\\AppData\\Local\\Temp\\ipykernel_3620\\1730273284.py:2: DeprecationWarning: executable_path has been deprecated, please pass in a Service object\n",
      "  driver=webdriver.Chrome('tools/chromedriver')\n"
     ]
    }
   ],
   "source": [
    "url=\"http://www.yes24.com/Product/Goods/30666296\"\n",
    "driver=webdriver.Chrome('tools/chromedriver')\n",
    "driver.get(url)\n",
    "#driver.implicitly_wait(5) #무슨효과인지 찾아보기\n",
    "time.sleep(2) #페이지가 어떻게되건 무조건 2초 기다림"
   ]
  },
  {
   "cell_type": "code",
   "execution_count": 29,
   "id": "03e3317a-0be1-421e-b120-06ea24b741fd",
   "metadata": {
    "tags": []
   },
   "outputs": [
    {
     "ename": "IndentationError",
     "evalue": "expected an indented block (2476923661.py, line 25)",
     "output_type": "error",
     "traceback": [
      "\u001b[1;36m  Input \u001b[1;32mIn [29]\u001b[1;36m\u001b[0m\n\u001b[1;33m    readlink.click()\u001b[0m\n\u001b[1;37m    ^\u001b[0m\n\u001b[1;31mIndentationError\u001b[0m\u001b[1;31m:\u001b[0m expected an indented block\n"
     ]
    }
   ],
   "source": [
    "temp_list=[]\n",
    "readlinks=driver.find_elements(By.CSS_SELECTOR,\n",
    "                              '#infoset_reviewContentList div.reviewInfoBot.crop > a')\n",
    "for readlink in readlinks:\n",
    "    readlink.click()\n",
    "    time.sleep(1)#1초만 멈춰있도록 설정\n",
    "\n",
    "review_list=driver.find_elements(By.CSS_SELECTOR, \n",
    "                                 '#infoset_reviewContentList div.reviewInfoBot.origin > div.review_cont')\n",
    "\n",
    "for review in review_list:\n",
    "    temp_list.append(review.text)\n",
    "#temp_list\n",
    "stopFlag=False\n",
    "\n",
    "while True:\n",
    "    for n in range(4,13): #1~10 페이지까지 클릭\n",
    "        linkurl = '#infoset_reviewContentList > div.review_sort.sortTop > div.review_sortLft > div > a:nth-child('+str(n)+')'\n",
    "        linkNum = driver.find_element(By.CSS_SELECTOR, linkurl)\n",
    "        linkNum.click()\n",
    "        time.sleep(2)\n",
    "        \n",
    "        readlinks=driver.find_elements(By.CSS_SELECTOR, '#infoset_reviewContentList div.reviewInfoBot.crop > a')\n",
    "        for readlink in readlinks:\n",
    "        readlink.click()\n",
    "        time.sleep(1)\n",
    "        \n",
    "        review_list=driver.find_elements(By.CSS_SELECTOR, \n",
    "                                 '#infoset_reviewContentList div.reviewInfoBot.origin > div.review_cont')\n",
    "        time.sleep(1)\n",
    "        \n",
    "        for review in review_list:\n",
    "            temp_list.append(review.text)    \n",
    "\n",
    "        if len(review_list)<5:\n",
    "            stopFlog=True\n",
    "            break\n",
    "\n",
    "    if stopFlag==True:\n",
    "        break\n",
    "\n",
    "    nextblock='#infoset_reviewContentList > div.review_sort.sortTop > div.review_sortLft > div > a.bgYUI.next'\n",
    "    nextNum=driver.find_element(By.CSS_SELECTOR, nextblock)\n",
    "    nextNum.click()\n",
    "    time.sleep(1)\n",
    "\n",
    "driver.quit()    \n",
    "        \n",
    "        \n",
    "#이블럭은 바로위 블럭을 실행해 크롬을 띄워놓고 실행할것."
   ]
  },
  {
   "cell_type": "code",
   "execution_count": null,
   "id": "37fba83c-f464-4fcb-8fbd-88b35fd03a41",
   "metadata": {},
   "outputs": [],
   "source": [
    "for item in item_list:\n",
    "    print(item)\n",
    "\n",
    "f=open('data/yes24_review.txt','w')\n",
    "f.writelines(temp_list)\n",
    "f.close()"
   ]
  }
 ],
 "metadata": {
  "kernelspec": {
   "display_name": "Python 3 (ipykernel)",
   "language": "python",
   "name": "python3"
  },
  "language_info": {
   "codemirror_mode": {
    "name": "ipython",
    "version": 3
   },
   "file_extension": ".py",
   "mimetype": "text/x-python",
   "name": "python",
   "nbconvert_exporter": "python",
   "pygments_lexer": "ipython3",
   "version": "3.9.12"
  }
 },
 "nbformat": 4,
 "nbformat_minor": 5
}
