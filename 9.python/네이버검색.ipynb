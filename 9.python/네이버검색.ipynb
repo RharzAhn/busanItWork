{
 "cells": [
  {
   "cell_type": "code",
   "execution_count": 22,
   "id": "c37614b6-b7a7-4057-963b-4805309c98ff",
   "metadata": {
    "collapsed": true,
    "jupyter": {
     "outputs_hidden": true
    },
    "tags": []
   },
   "outputs": [
    {
     "name": "stdout",
     "output_type": "stream",
     "text": [
      "{\n",
      "\t\"lastBuildDate\":\"Fri, 03 Jun 2022 14:37:05 +0900\",\n",
      "\t\"total\":3,\n",
      "\t\"start\":1,\n",
      "\t\"display\":3,\n",
      "\t\"items\":[\n",
      "\t\t{\n",
      "\t\t\t\"title\":\"피카츄 이건 무슨열쇠야?\",\n",
      "\t\t\t\"link\":\"https:\\/\\/movie.naver.com\\/movie\\/bi\\/mi\\/basic.nhn?code=134706\",\n",
      "\t\t\t\"image\":\"\",\n",
      "\t\t\t\"subtitle\":\"ピカチュウ、これなんのカギ？(\",\n",
      "\t\t\t\"pubDate\":\"2014\",\n",
      "\t\t\t\"director\":\"유야마 쿠니히코|\",\n",
      "\t\t\t\"actor\":\"와타나베 마유|마츠모토 리카|오오타니 이쿠에|\",\n",
      "\t\t\t\"userRating\":\"1.00\"\n",
      "\t\t},\n",
      "\t\t{\n",
      "\t\t\t\"title\":\"다음 <b>상영작<\\/b>\",\n",
      "\t\t\t\"link\":\"https:\\/\\/movie.naver.com\\/movie\\/bi\\/mi\\/basic.nhn?code=52823\",\n",
      "\t\t\t\"image\":\"https:\\/\\/ssl.pstatic.net\\/imgmovie\\/mdi\\/mit110\\/0528\\/52823_P00_115917.jpg\",\n",
      "\t\t\t\"subtitle\":\"Next Attraction\",\n",
      "\t\t\t\"pubDate\":\"2008\",\n",
      "\t\t\t\"director\":\"라야 마틴|\",\n",
      "\t\t\t\"actor\":\"재클린 호세|코코 마틴|\",\n",
      "\t\t\t\"userRating\":\"9.67\"\n",
      "\t\t},\n",
      "\t\t{\n",
      "\t\t\t\"title\":\"극장판 포켓몬스터2: 루기아의 탄생\",\n",
      "\t\t\t\"link\":\"https:\\/\\/movie.naver.com\\/movie\\/bi\\/mi\\/basic.nhn?code=27628\",\n",
      "\t\t\t\"image\":\"https:\\/\\/ssl.pstatic.net\\/imgmovie\\/mdi\\/mit110\\/0276\\/B7628-00.jpg\",\n",
      "\t\t\t\"subtitle\":\"Pocket Monsters: Revelation-Lugia\",\n",
      "\t\t\t\"pubDate\":\"1999\",\n",
      "\t\t\t\"director\":\"유야마 쿠니히코|\",\n",
      "\t\t\t\"actor\":\"마츠모토 리카|오오타니 이쿠에|\",\n",
      "\t\t\t\"userRating\":\"8.57\"\n",
      "\t\t}\n",
      "\t]\n",
      "}\n"
     ]
    }
   ],
   "source": [
    "# 네이버 검색 API예제는 블로그를 비롯 전문자료까지 호출방법이 동일하므로 blog검색만 대표로 예제를 올렸습니다.\n",
    "# 네이버 검색 Open API 예제 - 블로그 검색\n",
    "import os\n",
    "import sys\n",
    "import urllib.request\n",
    "client_id = \"HknP6GhK4M0P8bccgYYb\"\n",
    "client_secret = \"7W3rl8wPlb\"\n",
    "encText = urllib.parse.quote(\"상영작\")\n",
    "url = \"https://openapi.naver.com/v1/search/shop?query=\" + encText # json 결과, search 뒤에 blog movie등 변경가능\n",
    "# url = \"https://openapi.naver.com/v1/search/blog.xml?query=\" + encText # xml 결과\n",
    "request = urllib.request.Request(url)\n",
    "request.add_header(\"X-Naver-Client-Id\",client_id)\n",
    "request.add_header(\"X-Naver-Client-Secret\",client_secret)\n",
    "response = urllib.request.urlopen(request)\n",
    "rescode = response.getcode()\n",
    "if(rescode==200):\n",
    "    response_body = response.read()\n",
    "    print(response_body.decode('utf-8'))\n",
    "else:\n",
    "    print(\"Error Code:\" + rescode)"
   ]
  },
  {
   "cell_type": "code",
   "execution_count": 2,
   "id": "1b1c3da2-8c7c-46f8-a4ad-3b77eb879dbc",
   "metadata": {},
   "outputs": [],
   "source": [
    "import urllib.request\n",
    "import datetime\n",
    "import time\n",
    "import json\n",
    "client_id = \"HknP6GhK4M0P8bccgYYb\"\n",
    "client_secret = \"7W3rl8wPlb\""
   ]
  },
  {
   "cell_type": "code",
   "execution_count": 3,
   "id": "c010c2d9-5fc7-449b-b3e7-6aef60824fde",
   "metadata": {},
   "outputs": [],
   "source": [
    "def getRequestUrl(url):\n",
    "    req=urllib.request.Request(url)\n",
    "    req.add_header('X-Naver-Client-Id', client_id)\n",
    "    req.add_header('X-Naver-Client-Secret', client_secret)\n",
    "    \n",
    "    try:\n",
    "        response=urllib.request.urlopen(req)\n",
    "        if response.getcode()==200:\n",
    "            print(\"[%s] Url Request Success\"%datetime.datetime.now())\n",
    "            return response.read().decode('utf-8')\n",
    "    except Exception as e:\n",
    "        print(e)\n",
    "    print(\"[s] Error for Url : %s\"%(datetime.datetime.net(),url))\n",
    "    return None"
   ]
  },
  {
   "cell_type": "code",
   "execution_count": 5,
   "id": "7e33440f-302f-446d-9667-86d20be2c4f2",
   "metadata": {},
   "outputs": [],
   "source": [
    "def getNaverSearch(node, srcText,  start, display):\n",
    "    base=\"https://openapi.naver.com/v1/search\"\n",
    "    node=\"/%s.json\"%node\n",
    "    parameters=\"?query=%s&start=%s&display=%s\"%(urllib.parse.quote(srcText),start,display)\n",
    "    url=base+node+parameters\n",
    "    responseDecode=getRequestUrl(url)\n",
    "    \n",
    "    if responseDecode == None :\n",
    "        return None\n",
    "    else:\n",
    "        return json.loads(responseDecode)\n",
    "    "
   ]
  },
  {
   "cell_type": "code",
   "execution_count": 8,
   "id": "5a6d67d7-a05e-4815-a45a-ff4913043632",
   "metadata": {},
   "outputs": [],
   "source": [
    "def getPostData(item,jsonResult,cnt):\n",
    "    title=item['title'].strip() #아이템안에있는 타이틀 담아와서 담기, strip은 엔터나 공백같은거 빼는용도\n",
    "    description=item['description'].strip()\n",
    "    org_link=item['originallink']\n",
    "    link=item['link']\n",
    "    \n",
    "    pDate=datetime.datetime.strptime(item['pubDate'], '%a, %d %b %Y %H:%M:%S +0900')\n",
    "    pDate=pDate.strftime('%Y-%m-%d %H:%M:%S')\n",
    "    \n",
    "    #jsonResult 가져온이유 -> 값들 담으려고\n",
    "    jsonResult.append({'cnt':cnt,'title':title,'description':description,\n",
    "                       'org_link':org_link,'link':link, 'pDate':pDate})\n",
    "    return\n",
    "                                     "
   ]
  },
  {
   "cell_type": "code",
   "execution_count": 20,
   "id": "04dad8eb-4419-4886-8386-90bf93adb1c0",
   "metadata": {},
   "outputs": [],
   "source": [
    "def main():\n",
    "    node='news'\n",
    "    srcText=input('검색어를 입력하세요')\n",
    "    cnt=0;\n",
    "    jsonResult=[]\n",
    "    \n",
    "    jsonResponse=getNaverSearch(node, srcText, 1, 10)\n",
    "    total=jsonResponse['total']\n",
    "    # print(total)\n",
    "    # print(jsonResponse)\n",
    "    \n",
    "    #언제까지?\n",
    "    while((jsonResponse != None) and (jsonResponse['display'] !=0)):\n",
    "        #저장\n",
    "        for item in jsonResponse['items']:\n",
    "            cnt+=1\n",
    "            getPostData(item, jsonResult, cnt)\n",
    "            \n",
    "        start=jsonResponse['start']+jsonResponse['display']\n",
    "        jsonResponse=getNaverSearch(node, srcText, start, 10)\n",
    "        \n",
    "        #print(jsonResult)\n",
    "    with open('%s_naver_%s.json'%(srcText,node),'w',encoding='utf-8') as outfile:\n",
    "        jsonFile=json.dumps(jsonResult, indent=4, sort_keys=True, ensure_ascii=False)\n",
    "        outfile.write(jsonFile)\n",
    "        \n",
    "    print(\"전체 데이터 건수 %d에서 가져온 데이터 %d건입니다.\"%(total,cnt))\n",
    "    print('%s_naver_%s.json SAVE'%(srcText, node))"
   ]
  },
  {
   "cell_type": "code",
   "execution_count": 21,
   "id": "300c3e85-bdca-4439-b24a-be19b16cc6cd",
   "metadata": {
    "collapsed": true,
    "jupyter": {
     "outputs_hidden": true
    },
    "tags": []
   },
   "outputs": [
    {
     "name": "stdin",
     "output_type": "stream",
     "text": [
      "검색어를 입력하세요 지방선거\n"
     ]
    },
    {
     "name": "stdout",
     "output_type": "stream",
     "text": [
      "[2022-06-03 14:29:49.337849] Url Request Success\n",
      "[2022-06-03 14:29:49.423292] Url Request Success\n",
      "[2022-06-03 14:29:49.521865] Url Request Success\n",
      "[2022-06-03 14:29:49.611802] Url Request Success\n",
      "[2022-06-03 14:29:49.691849] Url Request Success\n",
      "[2022-06-03 14:29:49.782463] Url Request Success\n",
      "[2022-06-03 14:29:49.955692] Url Request Success\n",
      "[2022-06-03 14:29:50.046445] Url Request Success\n",
      "[2022-06-03 14:29:50.141855] Url Request Success\n",
      "[2022-06-03 14:29:50.239575] Url Request Success\n",
      "[2022-06-03 14:29:50.313383] Url Request Success\n",
      "[2022-06-03 14:29:50.428321] Url Request Success\n",
      "[2022-06-03 14:29:50.531171] Url Request Success\n",
      "[2022-06-03 14:29:50.624981] Url Request Success\n",
      "[2022-06-03 14:29:50.721550] Url Request Success\n",
      "[2022-06-03 14:29:50.822422] Url Request Success\n",
      "[2022-06-03 14:29:50.900353] Url Request Success\n",
      "[2022-06-03 14:29:50.973581] Url Request Success\n",
      "[2022-06-03 14:29:51.057483] Url Request Success\n",
      "[2022-06-03 14:29:51.151717] Url Request Success\n",
      "[2022-06-03 14:29:51.228676] Url Request Success\n",
      "[2022-06-03 14:29:51.307526] Url Request Success\n",
      "HTTP Error 429: Too Many Requests\n"
     ]
    },
    {
     "ename": "AttributeError",
     "evalue": "type object 'datetime.datetime' has no attribute 'net'",
     "output_type": "error",
     "traceback": [
      "\u001b[1;31m---------------------------------------------------------------------------\u001b[0m",
      "\u001b[1;31mAttributeError\u001b[0m                            Traceback (most recent call last)",
      "Input \u001b[1;32mIn [21]\u001b[0m, in \u001b[0;36m<cell line: 1>\u001b[1;34m()\u001b[0m\n\u001b[1;32m----> 1\u001b[0m \u001b[43mmain\u001b[49m\u001b[43m(\u001b[49m\u001b[43m)\u001b[49m\n",
      "Input \u001b[1;32mIn [20]\u001b[0m, in \u001b[0;36mmain\u001b[1;34m()\u001b[0m\n\u001b[0;32m     17\u001b[0m         getPostData(item, jsonResult, cnt)\n\u001b[0;32m     19\u001b[0m     start\u001b[38;5;241m=\u001b[39mjsonResponse[\u001b[38;5;124m'\u001b[39m\u001b[38;5;124mstart\u001b[39m\u001b[38;5;124m'\u001b[39m]\u001b[38;5;241m+\u001b[39mjsonResponse[\u001b[38;5;124m'\u001b[39m\u001b[38;5;124mdisplay\u001b[39m\u001b[38;5;124m'\u001b[39m]\n\u001b[1;32m---> 20\u001b[0m     jsonResponse\u001b[38;5;241m=\u001b[39m\u001b[43mgetNaverSearch\u001b[49m\u001b[43m(\u001b[49m\u001b[43mnode\u001b[49m\u001b[43m,\u001b[49m\u001b[43m \u001b[49m\u001b[43msrcText\u001b[49m\u001b[43m,\u001b[49m\u001b[43m \u001b[49m\u001b[43mstart\u001b[49m\u001b[43m,\u001b[49m\u001b[43m \u001b[49m\u001b[38;5;241;43m10\u001b[39;49m\u001b[43m)\u001b[49m\n\u001b[0;32m     22\u001b[0m     \u001b[38;5;66;03m#print(jsonResult)\u001b[39;00m\n\u001b[0;32m     23\u001b[0m \u001b[38;5;28;01mwith\u001b[39;00m \u001b[38;5;28mopen\u001b[39m(\u001b[38;5;124m'\u001b[39m\u001b[38;5;132;01m%s\u001b[39;00m\u001b[38;5;124m_naver_\u001b[39m\u001b[38;5;132;01m%s\u001b[39;00m\u001b[38;5;124m.json\u001b[39m\u001b[38;5;124m'\u001b[39m\u001b[38;5;241m%\u001b[39m(srcText,node),\u001b[38;5;124m'\u001b[39m\u001b[38;5;124mw\u001b[39m\u001b[38;5;124m'\u001b[39m,encoding\u001b[38;5;241m=\u001b[39m\u001b[38;5;124m'\u001b[39m\u001b[38;5;124mutf-8\u001b[39m\u001b[38;5;124m'\u001b[39m) \u001b[38;5;28;01mas\u001b[39;00m outfile:\n",
      "Input \u001b[1;32mIn [5]\u001b[0m, in \u001b[0;36mgetNaverSearch\u001b[1;34m(node, srcText, start, display)\u001b[0m\n\u001b[0;32m      4\u001b[0m parameters\u001b[38;5;241m=\u001b[39m\u001b[38;5;124m\"\u001b[39m\u001b[38;5;124m?query=\u001b[39m\u001b[38;5;132;01m%s\u001b[39;00m\u001b[38;5;124m&start=\u001b[39m\u001b[38;5;132;01m%s\u001b[39;00m\u001b[38;5;124m&display=\u001b[39m\u001b[38;5;132;01m%s\u001b[39;00m\u001b[38;5;124m\"\u001b[39m\u001b[38;5;241m%\u001b[39m(urllib\u001b[38;5;241m.\u001b[39mparse\u001b[38;5;241m.\u001b[39mquote(srcText),start,display)\n\u001b[0;32m      5\u001b[0m url\u001b[38;5;241m=\u001b[39mbase\u001b[38;5;241m+\u001b[39mnode\u001b[38;5;241m+\u001b[39mparameters\n\u001b[1;32m----> 6\u001b[0m responseDecode\u001b[38;5;241m=\u001b[39m\u001b[43mgetRequestUrl\u001b[49m\u001b[43m(\u001b[49m\u001b[43murl\u001b[49m\u001b[43m)\u001b[49m\n\u001b[0;32m      8\u001b[0m \u001b[38;5;28;01mif\u001b[39;00m responseDecode \u001b[38;5;241m==\u001b[39m \u001b[38;5;28;01mNone\u001b[39;00m :\n\u001b[0;32m      9\u001b[0m     \u001b[38;5;28;01mreturn\u001b[39;00m \u001b[38;5;28;01mNone\u001b[39;00m\n",
      "Input \u001b[1;32mIn [3]\u001b[0m, in \u001b[0;36mgetRequestUrl\u001b[1;34m(url)\u001b[0m\n\u001b[0;32m     11\u001b[0m \u001b[38;5;28;01mexcept\u001b[39;00m \u001b[38;5;167;01mException\u001b[39;00m \u001b[38;5;28;01mas\u001b[39;00m e:\n\u001b[0;32m     12\u001b[0m     \u001b[38;5;28mprint\u001b[39m(e)\n\u001b[1;32m---> 13\u001b[0m \u001b[38;5;28mprint\u001b[39m(\u001b[38;5;124m\"\u001b[39m\u001b[38;5;124m[s] Error for Url : \u001b[39m\u001b[38;5;132;01m%s\u001b[39;00m\u001b[38;5;124m\"\u001b[39m\u001b[38;5;241m%\u001b[39m(\u001b[43mdatetime\u001b[49m\u001b[38;5;241;43m.\u001b[39;49m\u001b[43mdatetime\u001b[49m\u001b[38;5;241;43m.\u001b[39;49m\u001b[43mnet\u001b[49m(),url))\n\u001b[0;32m     14\u001b[0m \u001b[38;5;28;01mreturn\u001b[39;00m \u001b[38;5;28;01mNone\u001b[39;00m\n",
      "\u001b[1;31mAttributeError\u001b[0m: type object 'datetime.datetime' has no attribute 'net'"
     ]
    }
   ],
   "source": [
    "main()"
   ]
  },
  {
   "cell_type": "markdown",
   "id": "f19f17bc-2d48-4042-8d6f-93b379d7ff26",
   "metadata": {},
   "source": [
    "# 파파고 번역 "
   ]
  },
  {
   "cell_type": "code",
   "execution_count": 23,
   "id": "bea316fd-7252-487a-80b4-758fa4013ea4",
   "metadata": {},
   "outputs": [
    {
     "name": "stdout",
     "output_type": "stream",
     "text": [
      "{\"message\":{\"result\":{\"srcLangType\":\"ko\",\"tarLangType\":\"en\",\"translatedText\":\"Nice to meet you.\",\"engineType\":\"PRETRANS\",\"pivot\":null,\"dict\":null,\"tarDict\":null},\"@type\":\"response\",\"@service\":\"naverservice.nmt.proxy\",\"@version\":\"1.0.0\"}}\n"
     ]
    }
   ],
   "source": [
    "import os\n",
    "import sys\n",
    "import urllib.request\n",
    "client_id = \"XSX0jGv4vugP5iEp3YOV\" # 개발자센터에서 발급받은 Client ID 값\n",
    "client_secret = \"FfqPhKcI99\" # 개발자센터에서 발급받은 Client Secret 값\n",
    "encText = urllib.parse.quote(\"반갑습니다\")\n",
    "data = \"source=ko&target=en&text=\" + encText\n",
    "url = \"https://openapi.naver.com/v1/papago/n2mt\"\n",
    "request = urllib.request.Request(url)\n",
    "request.add_header(\"X-Naver-Client-Id\",client_id)\n",
    "request.add_header(\"X-Naver-Client-Secret\",client_secret)\n",
    "response = urllib.request.urlopen(request, data=data.encode(\"utf-8\"))\n",
    "rescode = response.getcode()\n",
    "if(rescode==200):\n",
    "    response_body = response.read()\n",
    "    print(response_body.decode('utf-8'))\n",
    "else:\n",
    "    print(\"Error Code:\" + rescode)"
   ]
  }
 ],
 "metadata": {
  "kernelspec": {
   "display_name": "Python 3 (ipykernel)",
   "language": "python",
   "name": "python3"
  },
  "language_info": {
   "codemirror_mode": {
    "name": "ipython",
    "version": 3
   },
   "file_extension": ".py",
   "mimetype": "text/x-python",
   "name": "python",
   "nbconvert_exporter": "python",
   "pygments_lexer": "ipython3",
   "version": "3.9.12"
  }
 },
 "nbformat": 4,
 "nbformat_minor": 5
}
