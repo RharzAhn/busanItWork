{
 "cells": [
  {
   "cell_type": "code",
   "execution_count": 1,
   "id": "35c2cf60-ac08-4bcf-bcca-0f0ccb46e27b",
   "metadata": {},
   "outputs": [],
   "source": [
    "import sqlite3 #옆에 1이라고 나오면 되는것. 파이썬은 sqlite를 내장하고있음"
   ]
  },
  {
   "cell_type": "code",
   "execution_count": 8,
   "id": "157ee873-f8d6-47d2-aea6-9d7885b6839e",
   "metadata": {},
   "outputs": [],
   "source": [
    "def create_table():\n",
    "    conn=sqlite3.connect('my_book.db') #커넥션\n",
    "    cursor=conn.cursor() #커서 생성\n",
    "    sql=\"\"\" create table if not exists books(\n",
    "    title text,\n",
    "    publisher text,\n",
    "    pages integer,\n",
    "    recommend integer)\"\"\"\n",
    "    cursor.execute(sql)\n",
    "    conn.commit()\n",
    "    conn.close()"
   ]
  },
  {
   "cell_type": "code",
   "execution_count": 9,
   "id": "20703412-29cc-409f-9eb8-59c72a2cab48",
   "metadata": {},
   "outputs": [],
   "source": [
    "create_table()"
   ]
  },
  {
   "cell_type": "code",
   "execution_count": 25,
   "id": "8e5da655-8e8a-4410-badc-de25c2484af6",
   "metadata": {},
   "outputs": [],
   "source": [
    "def insert_books(book):\n",
    "    conn=sqlite3.connect('my_book.db') #커넥션\n",
    "    cursor=conn.cursor() #커서 생성\n",
    "    #sql=\"insert into books values('java','길벗',500,1)\"\n",
    "    sql=\"insert into books values(?,?,?,?)\"\n",
    "    #book=('python','한빛',600,1)\n",
    "    cursor.execute(sql,book)\n",
    "    conn.commit()\n",
    "    conn.close()"
   ]
  },
  {
   "cell_type": "code",
   "execution_count": 26,
   "id": "b7e4b42d-966d-465b-8c7a-5b77eca866d4",
   "metadata": {},
   "outputs": [],
   "source": [
    "book=('mongodb','한빛',650,1)\n",
    "insert_books(book)"
   ]
  },
  {
   "cell_type": "code",
   "execution_count": 28,
   "id": "ee14a357-cb79-4a85-87ff-6cf6bf87ca0e",
   "metadata": {},
   "outputs": [],
   "source": [
    "def insert_many_books(books):  #여러개 추가 - 튜블을 리스트로 만들어 추가?\n",
    "    conn=sqlite3.connect('my_book.db') #커넥션\n",
    "    cursor=conn.cursor() #커서 생성\n",
    "    #sql=\"insert into books values('java','길벗',500,1)\"\n",
    "    sql=\"insert into books values(?,?,?,?)\"\n",
    "    #book=('python','한빛',600,1)\n",
    "    cursor.executemany(sql,books)\n",
    "    conn.commit()\n",
    "    conn.close()"
   ]
  },
  {
   "cell_type": "code",
   "execution_count": 30,
   "id": "aa8cbca1-93ca-4e63-987c-a423907f0d47",
   "metadata": {},
   "outputs": [],
   "source": [
    "books=[('빅데이터','영진',600,2),\n",
    "       ('안드로이드','이지스퍼블리싱',500,3),\n",
    "       ('스프링','생능',650,1)]\n",
    "insert_many_books(books)"
   ]
  },
  {
   "cell_type": "code",
   "execution_count": 15,
   "id": "808ce91e-509e-484b-8f0f-ab93680278b6",
   "metadata": {},
   "outputs": [],
   "source": [
    "def all_books():\n",
    "    conn=sqlite3.connect('my_book.db')\n",
    "    cursor=conn.cursor()\n",
    "    sql=\"select * from books\"\n",
    "    cursor.execute(sql)\n",
    "    books=cursor.fetchall() #?\n",
    "    print(books)\n",
    "    print(len(books))\n",
    "    \n",
    "    for book in books:\n",
    "        print(book)\n",
    "    conn.close()"
   ]
  },
  {
   "cell_type": "code",
   "execution_count": 34,
   "id": "0429c299-32a9-43df-9a21-947eb50cc10a",
   "metadata": {},
   "outputs": [
    {
     "name": "stdout",
     "output_type": "stream",
     "text": [
      "[('python', '한빛', 600, 1), ('mongodb', '한빛', 650, 1), ('빅데이터', '영진', 600, 2), ('안드로이드', '이지스퍼블리싱', 500, 3), ('스프링', '생능', 650, 1)]\n",
      "5\n",
      "('python', '한빛', 600, 1)\n",
      "('mongodb', '한빛', 650, 1)\n",
      "('빅데이터', '영진', 600, 2)\n",
      "('안드로이드', '이지스퍼블리싱', 500, 3)\n",
      "('스프링', '생능', 650, 1)\n"
     ]
    }
   ],
   "source": [
    "all_books()"
   ]
  },
  {
   "cell_type": "code",
   "execution_count": 32,
   "id": "02754951-bc3a-4631-9bbc-f9ed6ee25831",
   "metadata": {},
   "outputs": [],
   "source": [
    "def delete_book():\n",
    "    conn=sqlite3.connect('my_book.db') #커넥션\n",
    "    cursor=conn.cursor() #커서 생성\n",
    "    #sql=\"insert into books values('java','길벗',500,1)\"\n",
    "    sql=\"delete from books where title=?\"\n",
    "    #book=('python','한빛',600,1)\n",
    "    cursor.execute(sql,('java',)) #여러개지우려면 executemany\n",
    "    conn.commit()\n",
    "    conn.close()"
   ]
  },
  {
   "cell_type": "code",
   "execution_count": 33,
   "id": "ae77462a-dcef-4db0-ad0f-fb66f479fc92",
   "metadata": {},
   "outputs": [],
   "source": [
    "delete_book()"
   ]
  }
 ],
 "metadata": {
  "kernelspec": {
   "display_name": "Python 3 (ipykernel)",
   "language": "python",
   "name": "python3"
  },
  "language_info": {
   "codemirror_mode": {
    "name": "ipython",
    "version": 3
   },
   "file_extension": ".py",
   "mimetype": "text/x-python",
   "name": "python",
   "nbconvert_exporter": "python",
   "pygments_lexer": "ipython3",
   "version": "3.9.12"
  }
 },
 "nbformat": 4,
 "nbformat_minor": 5
}
