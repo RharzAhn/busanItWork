{
 "cells": [
  {
   "cell_type": "code",
   "execution_count": 10,
   "id": "573f5c93-d667-4302-84f2-5cb96179b7ba",
   "metadata": {},
   "outputs": [],
   "source": [
    "def func1(x,y):\n",
    "    print(\"x:\",x, \"y:\",y)\n",
    "    print(\"x={0}, y={1}\".format(x,y))\n",
    "    print(\"x=%d, y=%d\"%(x,y))"
   ]
  },
  {
   "cell_type": "code",
   "execution_count": 2,
   "id": "598a8fcd-64c0-470d-a31c-b97956f5b0cb",
   "metadata": {},
   "outputs": [
    {
     "name": "stdout",
     "output_type": "stream",
     "text": [
      "x: 1 y: 2\n",
      "x: 1 y: 2\n"
     ]
    }
   ],
   "source": [
    "func1(1, 2)\n",
    "func1(y=2, x=1)"
   ]
  },
  {
   "cell_type": "code",
   "execution_count": 11,
   "id": "80299689-8cdd-4d74-8148-12160b2b9911",
   "metadata": {},
   "outputs": [],
   "source": [
    "def func2(a, b, *c):\n",
    "    print(a,b,*c)\n",
    "    print(\"a={0},b={1},c={2}\".format(a,b,c))"
   ]
  },
  {
   "cell_type": "code",
   "execution_count": 6,
   "id": "20c22385-5c6c-4978-9a8c-352abf4f9479",
   "metadata": {},
   "outputs": [
    {
     "name": "stdout",
     "output_type": "stream",
     "text": [
      "1 2 3\n",
      "1 2 3 4 5\n"
     ]
    }
   ],
   "source": [
    "func2(1,2,3)\n",
    "func2(1,2,3,4,5)"
   ]
  },
  {
   "cell_type": "code",
   "execution_count": 14,
   "id": "d88850fe-ba43-4611-88c6-939ada23d7eb",
   "metadata": {},
   "outputs": [],
   "source": [
    "def func3(**karg):\n",
    "    print(karg)\n",
    "    print(\"a={a},b={b},c={c}\".format(**karg))"
   ]
  },
  {
   "cell_type": "code",
   "execution_count": 15,
   "id": "25185fa6-7cee-4da1-aea0-708d83bf9942",
   "metadata": {},
   "outputs": [
    {
     "name": "stdout",
     "output_type": "stream",
     "text": [
      "{'a': 1, 'b': 2, 'c': 3}\n",
      "a=1,b=2,c=3\n"
     ]
    }
   ],
   "source": [
    "func3(a=1, b=2, c=3)"
   ]
  },
  {
   "cell_type": "code",
   "execution_count": 16,
   "id": "144bce56-f0f4-4541-9b6a-33dd394a88d0",
   "metadata": {},
   "outputs": [],
   "source": [
    "def func4(a,b=10): #디폴트는 끝부터 채워져야한다?\n",
    "    print(a,b)"
   ]
  },
  {
   "cell_type": "code",
   "execution_count": 18,
   "id": "507ffbba-dc23-43da-9e7b-4966903a8e8a",
   "metadata": {},
   "outputs": [
    {
     "name": "stdout",
     "output_type": "stream",
     "text": [
      "5 10\n",
      "20 30\n"
     ]
    }
   ],
   "source": [
    "func4(5) \n",
    "func4(20,30)"
   ]
  },
  {
   "cell_type": "code",
   "execution_count": 23,
   "id": "b480dd97-cdf4-43bc-847d-aabfe0005118",
   "metadata": {},
   "outputs": [
    {
     "name": "stdout",
     "output_type": "stream",
     "text": [
      "a\n",
      "ab\n",
      "ace\n",
      "edcba\n",
      "abcd\n",
      "a\n"
     ]
    }
   ],
   "source": [
    "a=\"abcde\"\n",
    "print(a[0])\n",
    "print(a[0:2]) #0~1인덱스까지?\n",
    "print(a[::2]) #전체를 두개씩 뛰어넘어가며~\n",
    "print(a[::-1])\n",
    "print(a[-5:-1])\n",
    "print(a[-5])"
   ]
  },
  {
   "cell_type": "code",
   "execution_count": 22,
   "id": "3430aa1a-fff9-4fff-8876-bb1027397744",
   "metadata": {},
   "outputs": [
    {
     "name": "stdout",
     "output_type": "stream",
     "text": [
      "pythonbigdata\n",
      "pythonpythonpythonpythonpython\n",
      "True\n"
     ]
    }
   ],
   "source": [
    "a='python'\n",
    "b='bigdata'\n",
    "\n",
    "print(a+b)\n",
    "print(a*5)\n",
    "print('o' in a)"
   ]
  }
 ],
 "metadata": {
  "kernelspec": {
   "display_name": "Python 3 (ipykernel)",
   "language": "python",
   "name": "python3"
  },
  "language_info": {
   "codemirror_mode": {
    "name": "ipython",
    "version": 3
   },
   "file_extension": ".py",
   "mimetype": "text/x-python",
   "name": "python",
   "nbconvert_exporter": "python",
   "pygments_lexer": "ipython3",
   "version": "3.9.12"
  }
 },
 "nbformat": 4,
 "nbformat_minor": 5
}
